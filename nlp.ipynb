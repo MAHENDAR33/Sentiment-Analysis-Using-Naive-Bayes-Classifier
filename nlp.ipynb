{
  "nbformat": 4,
  "nbformat_minor": 0,
  "metadata": {
    "colab": {
      "provenance": []
    },
    "kernelspec": {
      "name": "python3",
      "display_name": "Python 3"
    },
    "language_info": {
      "name": "python"
    }
  },
  "cells": [
    {
      "cell_type": "code",
      "execution_count": 3,
      "metadata": {
        "colab": {
          "base_uri": "https://localhost:8080/"
        },
        "id": "iTbHsSs_aGYN",
        "outputId": "6107cf34-783b-4fc3-de2b-7bdcd50c52d9"
      },
      "outputs": [
        {
          "output_type": "stream",
          "name": "stdout",
          "text": [
            "Twitter Data Columns: Index(['2401', 'Borderlands', 'Positive',\n",
            "       'im getting on borderlands and i will murder you all ,'],\n",
            "      dtype='object')\n",
            "News Data Columns: Index(['publish_date', 'headline'], dtype='object')\n",
            "Model Accuracy: 0.6443730334069759\n",
            "Classification Report:\n",
            "               precision    recall  f1-score   support\n",
            "\n",
            "  Irrelevant       0.73      0.36      0.48      2661\n",
            "    Negative       0.63      0.81      0.71      4471\n",
            "     Neutral       0.65      0.55      0.60      3551\n",
            "    Positive       0.63      0.73      0.68      4254\n",
            "\n",
            "    accuracy                           0.64     14937\n",
            "   macro avg       0.66      0.61      0.62     14937\n",
            "weighted avg       0.65      0.64      0.63     14937\n",
            "\n",
            "Sentiment predictions saved to news_with_sentiments.csv\n"
          ]
        }
      ],
      "source": [
        "import pandas as pd\n",
        "import numpy as np\n",
        "import matplotlib.pyplot as plt\n",
        "import seaborn as sns\n",
        "from sklearn.model_selection import train_test_split\n",
        "from sklearn.feature_extraction.text import TfidfVectorizer\n",
        "from sklearn.naive_bayes import MultinomialNB\n",
        "from sklearn.metrics import accuracy_score, classification_report\n",
        "\n",
        "# Load datasets\n",
        "twitter_data = pd.read_csv(\"/content/twitter_training.csv\")\n",
        "news_data = pd.read_csv(\"/content/news.csv\")\n",
        "\n",
        "# Display column names to verify structure\n",
        "print(\"Twitter Data Columns:\", twitter_data.columns)\n",
        "print(\"News Data Columns:\", news_data.columns)\n",
        "\n",
        "# Rename columns if necessary\n",
        "twitter_data.columns = ['ID', 'Brand', 'Sentiment', 'Phrase']\n",
        "news_data.columns = ['TimeStamp', 'Headline']\n",
        "\n",
        "# Ensure required columns exist\n",
        "required_columns = {'ID', 'Brand', 'Sentiment', 'Phrase'}\n",
        "if not required_columns.issubset(twitter_data.columns):\n",
        "    raise KeyError(f\"Missing required columns in Twitter data: {required_columns - set(twitter_data.columns)}\")\n",
        "\n",
        "if 'Headline' not in news_data.columns:\n",
        "    raise KeyError(\"Missing required column: 'Headline' in News data\")\n",
        "\n",
        "# Text Preprocessing\n",
        "def preprocess_text(text):\n",
        "    if isinstance(text, str):\n",
        "        text = text.lower()\n",
        "        text = text.replace(\"[^a-zA-Z]\", \" \")\n",
        "        return text\n",
        "    return \"\"\n",
        "\n",
        "twitter_data['Phrase'] = twitter_data['Phrase'].astype(str).apply(preprocess_text)\n",
        "news_data['Headline'] = news_data['Headline'].astype(str).apply(preprocess_text)\n",
        "\n",
        "# Vectorization\n",
        "tfidf_vectorizer = TfidfVectorizer(stop_words='english', max_features=5000)\n",
        "X_twitter = tfidf_vectorizer.fit_transform(twitter_data['Phrase'])\n",
        "y_twitter = twitter_data['Sentiment']\n",
        "X_news = tfidf_vectorizer.transform(news_data['Headline'])\n",
        "\n",
        "# Train-Test Split\n",
        "X_train, X_test, y_train, y_test = train_test_split(X_twitter, y_twitter, test_size=0.2, random_state=42)\n",
        "\n",
        "# Train Naive Bayes Model\n",
        "model = MultinomialNB()\n",
        "model.fit(X_train, y_train)\n",
        "y_pred = model.predict(X_test)\n",
        "\n",
        "# Evaluate Model\n",
        "accuracy = accuracy_score(y_test, y_pred)\n",
        "print(\"Model Accuracy:\", accuracy)\n",
        "print(\"Classification Report:\\n\", classification_report(y_test, y_pred))\n",
        "\n",
        "# Predict Sentiments for News Headlines\n",
        "news_sentiments = model.predict(X_news)\n",
        "news_data['Predicted Sentiment'] = news_sentiments\n",
        "\n",
        "# Save results\n",
        "news_data.to_csv(\"news_with_sentiments.csv\", index=False)\n",
        "print(\"Sentiment predictions saved to news_with_sentiments.csv\")"
      ]
    },
    {
      "cell_type": "code",
      "source": [],
      "metadata": {
        "id": "r7n2lXR3bEHb"
      },
      "execution_count": null,
      "outputs": []
    }
  ]
}